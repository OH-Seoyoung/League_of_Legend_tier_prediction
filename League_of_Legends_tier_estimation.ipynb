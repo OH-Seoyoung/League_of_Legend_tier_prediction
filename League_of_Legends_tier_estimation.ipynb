{
 "cells": [
  {
   "cell_type": "markdown",
   "metadata": {},
   "source": [
    "# League of Legends tier estimation\n",
    "- Correlation analysis\n",
    "- Softmax Regression\n",
    "- XGB Classifier"
   ]
  },
  {
   "cell_type": "markdown",
   "metadata": {},
   "source": [
    "## 0. Import Packages"
   ]
  },
  {
   "cell_type": "code",
   "execution_count": 389,
   "metadata": {},
   "outputs": [
    {
     "name": "stdout",
     "output_type": "stream",
     "text": [
      "2.3.0\n"
     ]
    }
   ],
   "source": [
    "import numpy as np\n",
    "import pandas as pd\n",
    "import matplotlib.pyplot as plt\n",
    "import seaborn as sns\n",
    "# pip install seaborn\n",
    "import tensorflow as tf\n",
    "from tensorflow import keras\n",
    "from tensorflow.keras import layers\n",
    "from keras.models import Sequential\n",
    "from keras.layers import Dense, Dropout, Flatten\n",
    "\n",
    "from xgboost import XGBClassifier\n",
    "from xgboost import plot_importance \n",
    "from matplotlib import pyplot\n",
    "from sklearn.metrics import accuracy_score\n",
    "\n",
    "print(tf.__version__)"
   ]
  },
  {
   "cell_type": "markdown",
   "metadata": {},
   "source": [
    "## 1. Load dataset"
   ]
  },
  {
   "cell_type": "code",
   "execution_count": 222,
   "metadata": {},
   "outputs": [],
   "source": [
    "csv = pd.read_csv('lol_dataset.csv', encoding = 'cp949')"
   ]
  },
  {
   "cell_type": "code",
   "execution_count": 223,
   "metadata": {
    "scrolled": true
   },
   "outputs": [
    {
     "data": {
      "text/html": [
       "<div>\n",
       "<style scoped>\n",
       "    .dataframe tbody tr th:only-of-type {\n",
       "        vertical-align: middle;\n",
       "    }\n",
       "\n",
       "    .dataframe tbody tr th {\n",
       "        vertical-align: top;\n",
       "    }\n",
       "\n",
       "    .dataframe thead th {\n",
       "        text-align: right;\n",
       "    }\n",
       "</style>\n",
       "<table border=\"1\" class=\"dataframe\">\n",
       "  <thead>\n",
       "    <tr style=\"text-align: right;\">\n",
       "      <th></th>\n",
       "      <th>id</th>\n",
       "      <th>time</th>\n",
       "      <th>tier</th>\n",
       "      <th>KDA</th>\n",
       "      <th>DPS</th>\n",
       "      <th>ward</th>\n",
       "      <th>cs</th>\n",
       "      <th>cspm</th>\n",
       "    </tr>\n",
       "  </thead>\n",
       "  <tbody>\n",
       "    <tr>\n",
       "      <th>0</th>\n",
       "      <td>1</td>\n",
       "      <td>31분 58초</td>\n",
       "      <td>Challenger</td>\n",
       "      <td>6/5/11</td>\n",
       "      <td>31367</td>\n",
       "      <td>0/10/5</td>\n",
       "      <td>296</td>\n",
       "      <td>9.3</td>\n",
       "    </tr>\n",
       "    <tr>\n",
       "      <th>1</th>\n",
       "      <td>2</td>\n",
       "      <td>31분 58초</td>\n",
       "      <td>Challenger</td>\n",
       "      <td>9/6/13</td>\n",
       "      <td>24054</td>\n",
       "      <td>7/11/8</td>\n",
       "      <td>141</td>\n",
       "      <td>4.4</td>\n",
       "    </tr>\n",
       "    <tr>\n",
       "      <th>2</th>\n",
       "      <td>3</td>\n",
       "      <td>31분 58초</td>\n",
       "      <td>Challenger</td>\n",
       "      <td>9/1/7</td>\n",
       "      <td>18880</td>\n",
       "      <td>2/10/15</td>\n",
       "      <td>377</td>\n",
       "      <td>11.8</td>\n",
       "    </tr>\n",
       "    <tr>\n",
       "      <th>3</th>\n",
       "      <td>4</td>\n",
       "      <td>24분 1초</td>\n",
       "      <td>Challenger</td>\n",
       "      <td>14/4/13</td>\n",
       "      <td>25399</td>\n",
       "      <td>8/16/1</td>\n",
       "      <td>108</td>\n",
       "      <td>4.5</td>\n",
       "    </tr>\n",
       "    <tr>\n",
       "      <th>4</th>\n",
       "      <td>5</td>\n",
       "      <td>24분 1초</td>\n",
       "      <td>Challenger</td>\n",
       "      <td>6/3/8</td>\n",
       "      <td>18421</td>\n",
       "      <td>4/7/4</td>\n",
       "      <td>194</td>\n",
       "      <td>8.1</td>\n",
       "    </tr>\n",
       "  </tbody>\n",
       "</table>\n",
       "</div>"
      ],
      "text/plain": [
       "   id     time        tier      KDA    DPS     ward   cs  cspm\n",
       "0   1  31분 58초  Challenger   6/5/11  31367   0/10/5  296   9.3\n",
       "1   2  31분 58초  Challenger   9/6/13  24054   7/11/8  141   4.4\n",
       "2   3  31분 58초  Challenger    9/1/7  18880  2/10/15  377  11.8\n",
       "3   4   24분 1초  Challenger  14/4/13  25399   8/16/1  108   4.5\n",
       "4   5   24분 1초  Challenger    6/3/8  18421    4/7/4  194   8.1"
      ]
     },
     "execution_count": 223,
     "metadata": {},
     "output_type": "execute_result"
    }
   ],
   "source": [
    "csv.head()"
   ]
  },
  {
   "cell_type": "markdown",
   "metadata": {},
   "source": [
    "## 2. Make Variables"
   ]
  },
  {
   "cell_type": "code",
   "execution_count": 250,
   "metadata": {},
   "outputs": [],
   "source": [
    "DPS = csv['DPS']\n",
    "cs = csv['cs']\n",
    "cspm1 = csv['cspm']\n",
    "cspm = cspm1.astype(float)\n",
    "\n",
    "DPS = np.array(DPS)\n",
    "cs = np.array(cs)\n",
    "cspm = np.array(cspm)"
   ]
  },
  {
   "cell_type": "code",
   "execution_count": 251,
   "metadata": {},
   "outputs": [],
   "source": [
    "dps = []\n",
    "for mod in DPS:\n",
    "    \n",
    "    item_mod = mod.replace(\",\", \"\")\n",
    "    dps.append(int(item_mod))"
   ]
  },
  {
   "cell_type": "code",
   "execution_count": 252,
   "metadata": {},
   "outputs": [],
   "source": [
    "DPS = dps\n",
    "DPS = np.array(DPS)"
   ]
  },
  {
   "cell_type": "markdown",
   "metadata": {},
   "source": [
    "### 2-1) time"
   ]
  },
  {
   "cell_type": "code",
   "execution_count": 25,
   "metadata": {},
   "outputs": [
    {
     "data": {
      "text/plain": [
       "array(['31분 58초', '31분 58초', '31분 58초', '24분 1초', '24분 1초'], dtype=object)"
      ]
     },
     "execution_count": 25,
     "metadata": {},
     "output_type": "execute_result"
    }
   ],
   "source": [
    "time_orig = csv['time']\n",
    "time_orig = np.array(time_orig)\n",
    "time_orig[:5]\n",
    "# time_orig.shape"
   ]
  },
  {
   "cell_type": "code",
   "execution_count": 85,
   "metadata": {},
   "outputs": [
    {
     "name": "stdout",
     "output_type": "stream",
     "text": [
      "[31, 31, 31, 24, 24, 24, 24, 24, 28, 16, 16, 16, 16, 16, 16, 15, 15, 15, 15, 27, 27, 22, 22, 22, 22, 22, 22, 22, 22, 25, 25, 25, 25, 25, 15, 15, 15, 15, 15, 15, 15, 15, 15, 21, 21, 21, 21, 35, 43, 43, 43, 43, 43, 43, 19, 19, 19, 19, 19, 23, 23, 23, 23, 23, 23, 23, 23, 23, 23, 23, 32, 32, 17, 17, 17, 17, 17, 17, 17, 22, 22, 22, 22, 22, 22, 22, 15, 15, 15, 15, 15, 15, 15, 30, 30, 30, 30, 30, 30, 30, 31, 37, 30, 25, 26, 37, 24, 16, 21, 37, 41, 34, 16, 16, 27, 27, 27, 27, 27, 37, 37, 37, 37, 25, 25, 30, 30, 30, 30, 31, 31, 31, 31, 31, 31, 31, 31, 31, 31, 31, 31, 28, 28, 28, 28, 28, 28, 28, 28, 29, 29, 29, 29, 29, 29, 29, 30, 30, 30, 30, 23, 23, 23, 23, 39, 39, 39, 39, 39, 39, 39, 39, 22, 22, 22, 22, 17, 17, 17, 17, 27, 27, 27, 27, 27, 27, 27, 27, 22, 22, 22, 22, 22, 22, 22, 22, 32, 32, 32, 32, 15, 15, 15, 15, 31, 31, 31, 31, 26, 26, 26, 26, 24, 24, 24, 24, 24, 24, 24, 24, 30, 30, 30, 30, 23, 23, 23, 23, 31, 31, 31, 31, 27, 27, 27, 27, 23, 23, 23, 23, 23, 23, 23, 23, 35, 35, 35, 35, 35, 35, 35, 35, 32, 32, 32, 32, 32, 32, 32, 32, 34, 34, 34, 34, 34, 34, 34, 34, 36, 36, 36, 36, 36, 36, 36, 36, 24, 24, 24, 24, 24, 24, 24, 24, 20, 20, 20, 20, 20, 20, 20, 20, 16, 16, 16, 14, 14, 14, 24, 24]\n"
     ]
    }
   ],
   "source": [
    "time_minute = []\n",
    "for i in range(len(time_orig)):\n",
    "    mod = time_orig[i].split('분')\n",
    "    time_minute.append(int(mod[0]))\n",
    "        \n",
    "print(time_minute)        "
   ]
  },
  {
   "cell_type": "markdown",
   "metadata": {},
   "source": [
    "### 2-2) KDA"
   ]
  },
  {
   "cell_type": "code",
   "execution_count": 54,
   "metadata": {},
   "outputs": [],
   "source": [
    "KDA_orig = csv['KDA']"
   ]
  },
  {
   "cell_type": "code",
   "execution_count": 59,
   "metadata": {},
   "outputs": [],
   "source": [
    "KDA_K = []\n",
    "KDA_D = []\n",
    "KDA_A = []\n",
    "for i in range(len(KDA_orig)):\n",
    "    mod = KDA_orig[i].split('/')\n",
    "#     print(i)\n",
    "    KDA_K.append(int(mod[0]))\n",
    "    KDA_D.append(int(mod[1]))\n",
    "    KDA_A.append(int(mod[2]))\n",
    "    \n",
    "    \n",
    "KDA_K = np.array(KDA_K)\n",
    "KDA_D = np.array(KDA_D)\n",
    "KDA_A = np.array(KDA_A)"
   ]
  },
  {
   "cell_type": "code",
   "execution_count": 124,
   "metadata": {},
   "outputs": [],
   "source": [
    "KDA_cal = []\n",
    "for i in range(len(KDA_orig)):\n",
    "    if KDA_D[i] == 0:\n",
    "        KDA_D[i] = 1  ## inf 방지\n",
    "    else :\n",
    "        KDA_cal.append(int((KDA_K[i]+KDA_A[i])/KDA_D[i]))"
   ]
  },
  {
   "cell_type": "code",
   "execution_count": 126,
   "metadata": {},
   "outputs": [
    {
     "data": {
      "text/plain": [
       "(300,)"
      ]
     },
     "execution_count": 126,
     "metadata": {},
     "output_type": "execute_result"
    }
   ],
   "source": [
    "KDA_cal = np.array(KDA_cal)\n",
    "np.shape(KDA_cal)"
   ]
  },
  {
   "cell_type": "markdown",
   "metadata": {},
   "source": [
    "### 2-3) Ward"
   ]
  },
  {
   "cell_type": "code",
   "execution_count": 78,
   "metadata": {},
   "outputs": [],
   "source": [
    "ward_orig = csv['ward']"
   ]
  },
  {
   "cell_type": "code",
   "execution_count": 80,
   "metadata": {},
   "outputs": [],
   "source": [
    "ward1 = []\n",
    "ward2 = []\n",
    "ward3 = []\n",
    "for i in range(len(ward_orig)):\n",
    "    mod = ward_orig[i].split('/')\n",
    "    ward1.append(int(mod[0]))\n",
    "    ward2.append(int(mod[1]))\n",
    "    ward3.append(int(mod[2]))\n",
    "#     print(i)\n",
    "    \n",
    "ward1 = np.array(ward1)\n",
    "ward2 = np.array(ward2)\n",
    "ward3 = np.array(ward3)"
   ]
  },
  {
   "cell_type": "code",
   "execution_count": 81,
   "metadata": {},
   "outputs": [],
   "source": [
    "ward_sum = ward1 + ward2 + ward3"
   ]
  },
  {
   "cell_type": "markdown",
   "metadata": {},
   "source": [
    "### 2-4) DPS per minute"
   ]
  },
  {
   "cell_type": "code",
   "execution_count": 114,
   "metadata": {},
   "outputs": [],
   "source": [
    "DPS_pt = DPS/time_minute"
   ]
  },
  {
   "cell_type": "markdown",
   "metadata": {},
   "source": [
    "### 2-5) tier"
   ]
  },
  {
   "cell_type": "code",
   "execution_count": 86,
   "metadata": {
    "scrolled": false
   },
   "outputs": [
    {
     "data": {
      "text/plain": [
       "['Iron 4',\n",
       " 'Iron 3',\n",
       " 'Iron 2',\n",
       " 'Iron 1',\n",
       " 'Bronze 4',\n",
       " 'Bronze 3',\n",
       " 'Bronze 2',\n",
       " 'Bronze 1',\n",
       " 'Silver 4',\n",
       " 'Silver 3',\n",
       " 'Silver 2',\n",
       " 'Silver 1',\n",
       " 'Gold 4',\n",
       " 'Gold 3',\n",
       " 'Gold 2',\n",
       " 'Gold 1',\n",
       " 'Platinum 4',\n",
       " 'Platinum 3',\n",
       " 'Platinum 2',\n",
       " 'Platinum 1',\n",
       " 'Diamond 4',\n",
       " 'Diamond 3',\n",
       " 'Diamond 2',\n",
       " 'Diamond 1',\n",
       " 'Master',\n",
       " 'Grandmaster',\n",
       " 'Challenger']"
      ]
     },
     "execution_count": 86,
     "metadata": {},
     "output_type": "execute_result"
    }
   ],
   "source": [
    "tier_uni=csv['tier'].unique()\n",
    "tier_uni\n",
    "['Iron 4', 'Iron 3', 'Iron 2','Iron 1','Bronze 4','Bronze 3','Bronze 2','Bronze 1','Silver 4','Silver 3','Silver 2','Silver 1',\n",
    " 'Gold 4','Gold 3','Gold 2','Gold 1','Platinum 4','Platinum 3','Platinum 2','Platinum 1','Diamond 4','Diamond 3','Diamond 2',\n",
    " 'Diamond 1','Master','Grandmaster','Challenger']"
   ]
  },
  {
   "cell_type": "code",
   "execution_count": 91,
   "metadata": {
    "scrolled": true
   },
   "outputs": [],
   "source": [
    "tier = csv['tier']\n",
    "tier_num = []\n",
    "for a in range(len(csv)):\n",
    "    for b in range(len(tier_uni)):\n",
    "        if (tier[a] == tier_uni[b]):\n",
    "            tier_num.append(b+1)"
   ]
  },
  {
   "cell_type": "markdown",
   "metadata": {},
   "source": [
    "- independent variables : DPS, cs, cspm, time_minute, KDA_K, KDA_D, KDA_A, KDA_cal, ward1, ward2, ward3, ward_sum\n",
    "- dependent variables : tier"
   ]
  },
  {
   "cell_type": "code",
   "execution_count": 123,
   "metadata": {},
   "outputs": [
    {
     "data": {
      "text/plain": [
       "(288,)"
      ]
     },
     "execution_count": 123,
     "metadata": {},
     "output_type": "execute_result"
    }
   ],
   "source": [
    "np.shape(KDA_cal)"
   ]
  },
  {
   "cell_type": "code",
   "execution_count": 225,
   "metadata": {},
   "outputs": [
    {
     "data": {
      "text/html": [
       "<div>\n",
       "<style scoped>\n",
       "    .dataframe tbody tr th:only-of-type {\n",
       "        vertical-align: middle;\n",
       "    }\n",
       "\n",
       "    .dataframe tbody tr th {\n",
       "        vertical-align: top;\n",
       "    }\n",
       "\n",
       "    .dataframe thead th {\n",
       "        text-align: right;\n",
       "    }\n",
       "</style>\n",
       "<table border=\"1\" class=\"dataframe\">\n",
       "  <thead>\n",
       "    <tr style=\"text-align: right;\">\n",
       "      <th></th>\n",
       "      <th>DPS</th>\n",
       "      <th>cs</th>\n",
       "      <th>cspm</th>\n",
       "      <th>time_minute</th>\n",
       "      <th>KDA_K</th>\n",
       "      <th>KDA_D</th>\n",
       "      <th>KDA_A</th>\n",
       "      <th>KDA_cal</th>\n",
       "      <th>ward1</th>\n",
       "      <th>ward2</th>\n",
       "      <th>ward3</th>\n",
       "      <th>ward_sum</th>\n",
       "      <th>DPS_pt</th>\n",
       "      <th>tier_num</th>\n",
       "    </tr>\n",
       "  </thead>\n",
       "  <tbody>\n",
       "    <tr>\n",
       "      <th>0</th>\n",
       "      <td>31367</td>\n",
       "      <td>296</td>\n",
       "      <td>9.3</td>\n",
       "      <td>31</td>\n",
       "      <td>6</td>\n",
       "      <td>5</td>\n",
       "      <td>11</td>\n",
       "      <td>3</td>\n",
       "      <td>0</td>\n",
       "      <td>10</td>\n",
       "      <td>5</td>\n",
       "      <td>15</td>\n",
       "      <td>1011.838710</td>\n",
       "      <td>9</td>\n",
       "    </tr>\n",
       "    <tr>\n",
       "      <th>1</th>\n",
       "      <td>24054</td>\n",
       "      <td>141</td>\n",
       "      <td>4.4</td>\n",
       "      <td>31</td>\n",
       "      <td>9</td>\n",
       "      <td>6</td>\n",
       "      <td>13</td>\n",
       "      <td>3</td>\n",
       "      <td>7</td>\n",
       "      <td>11</td>\n",
       "      <td>8</td>\n",
       "      <td>26</td>\n",
       "      <td>775.935484</td>\n",
       "      <td>9</td>\n",
       "    </tr>\n",
       "    <tr>\n",
       "      <th>2</th>\n",
       "      <td>18880</td>\n",
       "      <td>377</td>\n",
       "      <td>11.8</td>\n",
       "      <td>31</td>\n",
       "      <td>9</td>\n",
       "      <td>1</td>\n",
       "      <td>7</td>\n",
       "      <td>16</td>\n",
       "      <td>2</td>\n",
       "      <td>10</td>\n",
       "      <td>15</td>\n",
       "      <td>27</td>\n",
       "      <td>609.032258</td>\n",
       "      <td>9</td>\n",
       "    </tr>\n",
       "    <tr>\n",
       "      <th>3</th>\n",
       "      <td>25399</td>\n",
       "      <td>108</td>\n",
       "      <td>4.5</td>\n",
       "      <td>24</td>\n",
       "      <td>14</td>\n",
       "      <td>4</td>\n",
       "      <td>13</td>\n",
       "      <td>6</td>\n",
       "      <td>8</td>\n",
       "      <td>16</td>\n",
       "      <td>1</td>\n",
       "      <td>25</td>\n",
       "      <td>1058.291667</td>\n",
       "      <td>9</td>\n",
       "    </tr>\n",
       "    <tr>\n",
       "      <th>4</th>\n",
       "      <td>18421</td>\n",
       "      <td>194</td>\n",
       "      <td>8.1</td>\n",
       "      <td>24</td>\n",
       "      <td>6</td>\n",
       "      <td>3</td>\n",
       "      <td>8</td>\n",
       "      <td>4</td>\n",
       "      <td>4</td>\n",
       "      <td>7</td>\n",
       "      <td>4</td>\n",
       "      <td>15</td>\n",
       "      <td>767.541667</td>\n",
       "      <td>9</td>\n",
       "    </tr>\n",
       "    <tr>\n",
       "      <th>...</th>\n",
       "      <td>...</td>\n",
       "      <td>...</td>\n",
       "      <td>...</td>\n",
       "      <td>...</td>\n",
       "      <td>...</td>\n",
       "      <td>...</td>\n",
       "      <td>...</td>\n",
       "      <td>...</td>\n",
       "      <td>...</td>\n",
       "      <td>...</td>\n",
       "      <td>...</td>\n",
       "      <td>...</td>\n",
       "      <td>...</td>\n",
       "      <td>...</td>\n",
       "    </tr>\n",
       "    <tr>\n",
       "      <th>295</th>\n",
       "      <td>54</td>\n",
       "      <td>11</td>\n",
       "      <td>0.8</td>\n",
       "      <td>14</td>\n",
       "      <td>0</td>\n",
       "      <td>1</td>\n",
       "      <td>0</td>\n",
       "      <td>0</td>\n",
       "      <td>0</td>\n",
       "      <td>0</td>\n",
       "      <td>0</td>\n",
       "      <td>0</td>\n",
       "      <td>3.857143</td>\n",
       "      <td>1</td>\n",
       "    </tr>\n",
       "    <tr>\n",
       "      <th>296</th>\n",
       "      <td>133</td>\n",
       "      <td>13</td>\n",
       "      <td>0.9</td>\n",
       "      <td>14</td>\n",
       "      <td>0</td>\n",
       "      <td>1</td>\n",
       "      <td>0</td>\n",
       "      <td>0</td>\n",
       "      <td>0</td>\n",
       "      <td>1</td>\n",
       "      <td>0</td>\n",
       "      <td>1</td>\n",
       "      <td>9.500000</td>\n",
       "      <td>1</td>\n",
       "    </tr>\n",
       "    <tr>\n",
       "      <th>297</th>\n",
       "      <td>4205</td>\n",
       "      <td>110</td>\n",
       "      <td>7.8</td>\n",
       "      <td>14</td>\n",
       "      <td>1</td>\n",
       "      <td>1</td>\n",
       "      <td>4</td>\n",
       "      <td>5</td>\n",
       "      <td>0</td>\n",
       "      <td>4</td>\n",
       "      <td>0</td>\n",
       "      <td>4</td>\n",
       "      <td>300.357143</td>\n",
       "      <td>1</td>\n",
       "    </tr>\n",
       "    <tr>\n",
       "      <th>298</th>\n",
       "      <td>14039</td>\n",
       "      <td>103</td>\n",
       "      <td>4.2</td>\n",
       "      <td>24</td>\n",
       "      <td>5</td>\n",
       "      <td>8</td>\n",
       "      <td>3</td>\n",
       "      <td>1</td>\n",
       "      <td>0</td>\n",
       "      <td>4</td>\n",
       "      <td>0</td>\n",
       "      <td>4</td>\n",
       "      <td>584.958333</td>\n",
       "      <td>1</td>\n",
       "    </tr>\n",
       "    <tr>\n",
       "      <th>299</th>\n",
       "      <td>17955</td>\n",
       "      <td>123</td>\n",
       "      <td>5.0</td>\n",
       "      <td>24</td>\n",
       "      <td>9</td>\n",
       "      <td>2</td>\n",
       "      <td>8</td>\n",
       "      <td>8</td>\n",
       "      <td>0</td>\n",
       "      <td>5</td>\n",
       "      <td>0</td>\n",
       "      <td>5</td>\n",
       "      <td>748.125000</td>\n",
       "      <td>1</td>\n",
       "    </tr>\n",
       "  </tbody>\n",
       "</table>\n",
       "<p>300 rows × 14 columns</p>\n",
       "</div>"
      ],
      "text/plain": [
       "       DPS   cs  cspm  time_minute  KDA_K  KDA_D  KDA_A  KDA_cal  ward1  \\\n",
       "0    31367  296   9.3           31      6      5     11        3      0   \n",
       "1    24054  141   4.4           31      9      6     13        3      7   \n",
       "2    18880  377  11.8           31      9      1      7       16      2   \n",
       "3    25399  108   4.5           24     14      4     13        6      8   \n",
       "4    18421  194   8.1           24      6      3      8        4      4   \n",
       "..     ...  ...   ...          ...    ...    ...    ...      ...    ...   \n",
       "295     54   11   0.8           14      0      1      0        0      0   \n",
       "296    133   13   0.9           14      0      1      0        0      0   \n",
       "297   4205  110   7.8           14      1      1      4        5      0   \n",
       "298  14039  103   4.2           24      5      8      3        1      0   \n",
       "299  17955  123   5.0           24      9      2      8        8      0   \n",
       "\n",
       "     ward2  ward3  ward_sum       DPS_pt  tier_num  \n",
       "0       10      5        15  1011.838710         9  \n",
       "1       11      8        26   775.935484         9  \n",
       "2       10     15        27   609.032258         9  \n",
       "3       16      1        25  1058.291667         9  \n",
       "4        7      4        15   767.541667         9  \n",
       "..     ...    ...       ...          ...       ...  \n",
       "295      0      0         0     3.857143         1  \n",
       "296      1      0         1     9.500000         1  \n",
       "297      4      0         4   300.357143         1  \n",
       "298      4      0         4   584.958333         1  \n",
       "299      5      0         5   748.125000         1  \n",
       "\n",
       "[300 rows x 14 columns]"
      ]
     },
     "execution_count": 225,
     "metadata": {},
     "output_type": "execute_result"
    }
   ],
   "source": [
    "df = pd.DataFrame({'DPS':DPS,'cs':cs,'cspm':cspm,'time_minute':time_minute,'KDA_K':KDA_K,'KDA_D':KDA_D,'KDA_A':KDA_A,\n",
    "                  'KDA_cal':KDA_cal,'ward1':ward1,'ward2':ward2,'ward3':ward3,'ward_sum':ward_sum, \n",
    "                   'DPS_pt':DPS_pt, 'tier_num':tier_num})\n",
    "df"
   ]
  },
  {
   "cell_type": "markdown",
   "metadata": {},
   "source": [
    "## 3. Correlation Analysis"
   ]
  },
  {
   "cell_type": "code",
   "execution_count": 226,
   "metadata": {},
   "outputs": [
    {
     "data": {
      "text/html": [
       "<div>\n",
       "<style scoped>\n",
       "    .dataframe tbody tr th:only-of-type {\n",
       "        vertical-align: middle;\n",
       "    }\n",
       "\n",
       "    .dataframe tbody tr th {\n",
       "        vertical-align: top;\n",
       "    }\n",
       "\n",
       "    .dataframe thead th {\n",
       "        text-align: right;\n",
       "    }\n",
       "</style>\n",
       "<table border=\"1\" class=\"dataframe\">\n",
       "  <thead>\n",
       "    <tr style=\"text-align: right;\">\n",
       "      <th></th>\n",
       "      <th>cs</th>\n",
       "      <th>cspm</th>\n",
       "      <th>time_minute</th>\n",
       "      <th>KDA_K</th>\n",
       "      <th>KDA_D</th>\n",
       "      <th>KDA_A</th>\n",
       "      <th>KDA_cal</th>\n",
       "      <th>ward1</th>\n",
       "      <th>ward2</th>\n",
       "      <th>ward3</th>\n",
       "      <th>ward_sum</th>\n",
       "      <th>DPS_pt</th>\n",
       "      <th>tier_num</th>\n",
       "    </tr>\n",
       "  </thead>\n",
       "  <tbody>\n",
       "    <tr>\n",
       "      <th>count</th>\n",
       "      <td>300.000000</td>\n",
       "      <td>300.000000</td>\n",
       "      <td>300.000000</td>\n",
       "      <td>300.000000</td>\n",
       "      <td>300.000000</td>\n",
       "      <td>300.000000</td>\n",
       "      <td>300.000000</td>\n",
       "      <td>300.000000</td>\n",
       "      <td>300.000000</td>\n",
       "      <td>300.000000</td>\n",
       "      <td>300.000000</td>\n",
       "      <td>300.000000</td>\n",
       "      <td>300.000000</td>\n",
       "    </tr>\n",
       "    <tr>\n",
       "      <th>mean</th>\n",
       "      <td>167.090000</td>\n",
       "      <td>6.345000</td>\n",
       "      <td>26.003333</td>\n",
       "      <td>6.100000</td>\n",
       "      <td>4.966667</td>\n",
       "      <td>6.786667</td>\n",
       "      <td>3.776667</td>\n",
       "      <td>2.453333</td>\n",
       "      <td>7.756667</td>\n",
       "      <td>3.133333</td>\n",
       "      <td>13.343333</td>\n",
       "      <td>640.364574</td>\n",
       "      <td>5.313333</td>\n",
       "    </tr>\n",
       "    <tr>\n",
       "      <th>std</th>\n",
       "      <td>57.090041</td>\n",
       "      <td>1.584311</td>\n",
       "      <td>7.004298</td>\n",
       "      <td>4.399377</td>\n",
       "      <td>3.061066</td>\n",
       "      <td>4.850386</td>\n",
       "      <td>4.577112</td>\n",
       "      <td>2.530316</td>\n",
       "      <td>4.104503</td>\n",
       "      <td>3.464423</td>\n",
       "      <td>8.013291</td>\n",
       "      <td>585.919719</td>\n",
       "      <td>2.363707</td>\n",
       "    </tr>\n",
       "    <tr>\n",
       "      <th>min</th>\n",
       "      <td>11.000000</td>\n",
       "      <td>0.800000</td>\n",
       "      <td>14.000000</td>\n",
       "      <td>0.000000</td>\n",
       "      <td>1.000000</td>\n",
       "      <td>0.000000</td>\n",
       "      <td>0.000000</td>\n",
       "      <td>0.000000</td>\n",
       "      <td>0.000000</td>\n",
       "      <td>0.000000</td>\n",
       "      <td>0.000000</td>\n",
       "      <td>0.761905</td>\n",
       "      <td>1.000000</td>\n",
       "    </tr>\n",
       "    <tr>\n",
       "      <th>25%</th>\n",
       "      <td>124.000000</td>\n",
       "      <td>5.375000</td>\n",
       "      <td>22.000000</td>\n",
       "      <td>3.000000</td>\n",
       "      <td>2.000000</td>\n",
       "      <td>3.000000</td>\n",
       "      <td>1.000000</td>\n",
       "      <td>0.000000</td>\n",
       "      <td>5.000000</td>\n",
       "      <td>1.000000</td>\n",
       "      <td>7.750000</td>\n",
       "      <td>424.676471</td>\n",
       "      <td>3.000000</td>\n",
       "    </tr>\n",
       "    <tr>\n",
       "      <th>50%</th>\n",
       "      <td>165.000000</td>\n",
       "      <td>6.400000</td>\n",
       "      <td>25.000000</td>\n",
       "      <td>5.000000</td>\n",
       "      <td>5.000000</td>\n",
       "      <td>6.000000</td>\n",
       "      <td>2.000000</td>\n",
       "      <td>2.000000</td>\n",
       "      <td>7.000000</td>\n",
       "      <td>2.000000</td>\n",
       "      <td>12.000000</td>\n",
       "      <td>575.171212</td>\n",
       "      <td>5.000000</td>\n",
       "    </tr>\n",
       "    <tr>\n",
       "      <th>75%</th>\n",
       "      <td>201.000000</td>\n",
       "      <td>7.500000</td>\n",
       "      <td>31.000000</td>\n",
       "      <td>9.000000</td>\n",
       "      <td>7.000000</td>\n",
       "      <td>9.000000</td>\n",
       "      <td>5.000000</td>\n",
       "      <td>4.000000</td>\n",
       "      <td>10.000000</td>\n",
       "      <td>4.000000</td>\n",
       "      <td>17.250000</td>\n",
       "      <td>769.555195</td>\n",
       "      <td>7.000000</td>\n",
       "    </tr>\n",
       "    <tr>\n",
       "      <th>max</th>\n",
       "      <td>395.000000</td>\n",
       "      <td>11.800000</td>\n",
       "      <td>43.000000</td>\n",
       "      <td>23.000000</td>\n",
       "      <td>22.000000</td>\n",
       "      <td>27.000000</td>\n",
       "      <td>29.000000</td>\n",
       "      <td>15.000000</td>\n",
       "      <td>26.000000</td>\n",
       "      <td>19.000000</td>\n",
       "      <td>47.000000</td>\n",
       "      <td>9607.411765</td>\n",
       "      <td>9.000000</td>\n",
       "    </tr>\n",
       "  </tbody>\n",
       "</table>\n",
       "</div>"
      ],
      "text/plain": [
       "               cs        cspm  time_minute       KDA_K       KDA_D  \\\n",
       "count  300.000000  300.000000   300.000000  300.000000  300.000000   \n",
       "mean   167.090000    6.345000    26.003333    6.100000    4.966667   \n",
       "std     57.090041    1.584311     7.004298    4.399377    3.061066   \n",
       "min     11.000000    0.800000    14.000000    0.000000    1.000000   \n",
       "25%    124.000000    5.375000    22.000000    3.000000    2.000000   \n",
       "50%    165.000000    6.400000    25.000000    5.000000    5.000000   \n",
       "75%    201.000000    7.500000    31.000000    9.000000    7.000000   \n",
       "max    395.000000   11.800000    43.000000   23.000000   22.000000   \n",
       "\n",
       "            KDA_A     KDA_cal       ward1       ward2       ward3    ward_sum  \\\n",
       "count  300.000000  300.000000  300.000000  300.000000  300.000000  300.000000   \n",
       "mean     6.786667    3.776667    2.453333    7.756667    3.133333   13.343333   \n",
       "std      4.850386    4.577112    2.530316    4.104503    3.464423    8.013291   \n",
       "min      0.000000    0.000000    0.000000    0.000000    0.000000    0.000000   \n",
       "25%      3.000000    1.000000    0.000000    5.000000    1.000000    7.750000   \n",
       "50%      6.000000    2.000000    2.000000    7.000000    2.000000   12.000000   \n",
       "75%      9.000000    5.000000    4.000000   10.000000    4.000000   17.250000   \n",
       "max     27.000000   29.000000   15.000000   26.000000   19.000000   47.000000   \n",
       "\n",
       "            DPS_pt    tier_num  \n",
       "count   300.000000  300.000000  \n",
       "mean    640.364574    5.313333  \n",
       "std     585.919719    2.363707  \n",
       "min       0.761905    1.000000  \n",
       "25%     424.676471    3.000000  \n",
       "50%     575.171212    5.000000  \n",
       "75%     769.555195    7.000000  \n",
       "max    9607.411765    9.000000  "
      ]
     },
     "execution_count": 226,
     "metadata": {},
     "output_type": "execute_result"
    }
   ],
   "source": [
    "df.describe()"
   ]
  },
  {
   "cell_type": "code",
   "execution_count": 283,
   "metadata": {},
   "outputs": [
    {
     "data": {
      "image/png": "[encoded data removed]",
      "text/plain": [
       "<Figure size 1080x1080 with 2 Axes>"
      ]
     },
     "metadata": {
      "needs_background": "light"
     },
     "output_type": "display_data"
    }
   ],
   "source": [
    "plt.figure(figsize=(15,15))\n",
    "sns.heatmap(data = df.corr(), annot=True, \n",
    "fmt = '.3f', linewidths=.5, cmap='Reds')\n",
    "\n",
    "plt.savefig('correlation analysis.jpg')\n",
    "plt.show()"
   ]
  },
  {
   "cell_type": "code",
   "execution_count": 284,
   "metadata": {},
   "outputs": [
    {
     "data": {
      "image/png": "[encoded data removed]",
      "text/plain": [
       "<Figure size 900x900 with 30 Axes>"
      ]
     },
     "metadata": {
      "needs_background": "light"
     },
     "output_type": "display_data"
    }
   ],
   "source": [
    "sns.pairplot(df[[\"DPS\", \"cs\", \"KDA_cal\", \"ward_sum\", \"tier_num\"]], diag_kind=\"kde\")\n",
    "plt.savefig(\"pairplot.jpg\")\n",
    "\n",
    "plt.show()"
   ]
  },
  {
   "cell_type": "markdown",
   "metadata": {},
   "source": [
    "- regression X -> classification"
   ]
  },
  {
   "cell_type": "markdown",
   "metadata": {},
   "source": [
    "## 4. Make dataset"
   ]
  },
  {
   "cell_type": "code",
   "execution_count": 403,
   "metadata": {},
   "outputs": [
    {
     "data": {
      "text/plain": [
       "300"
      ]
     },
     "execution_count": 403,
     "metadata": {},
     "output_type": "execute_result"
    }
   ],
   "source": [
    "tier_no=csv['tier']\n",
    "tier_name=[]\n",
    "for i in range(len(tier_no)):\n",
    "    tier=tier_no[i].split(' ')\n",
    "    tier_name.append(tier[0])\n",
    "    \n",
    "tier_uni=csv['tier'].unique()\n",
    "tier_uni=['Iron','Bronze','Silver','Gold','Platinum','Diamond','Master','Grandmaster','Challenger']\n",
    "\n",
    "tier = csv['tier']\n",
    "tier_num = []\n",
    "for a in range(len(csv)):\n",
    "    for b in range(len(tier_uni)):\n",
    "        if (tier_name[a] == tier_uni[b]):\n",
    "            tier_num.append(b)\n",
    "len(tier_num)"
   ]
  },
  {
   "cell_type": "code",
   "execution_count": 404,
   "metadata": {},
   "outputs": [
    {
     "data": {
      "text/html": [
       "<div>\n",
       "<style scoped>\n",
       "    .dataframe tbody tr th:only-of-type {\n",
       "        vertical-align: middle;\n",
       "    }\n",
       "\n",
       "    .dataframe tbody tr th {\n",
       "        vertical-align: top;\n",
       "    }\n",
       "\n",
       "    .dataframe thead th {\n",
       "        text-align: right;\n",
       "    }\n",
       "</style>\n",
       "<table border=\"1\" class=\"dataframe\">\n",
       "  <thead>\n",
       "    <tr style=\"text-align: right;\">\n",
       "      <th></th>\n",
       "      <th>DPS</th>\n",
       "      <th>cs</th>\n",
       "      <th>cspm</th>\n",
       "      <th>time_minute</th>\n",
       "      <th>KDA_K</th>\n",
       "      <th>KDA_D</th>\n",
       "      <th>KDA_A</th>\n",
       "      <th>KDA_cal</th>\n",
       "      <th>ward1</th>\n",
       "      <th>ward2</th>\n",
       "      <th>ward3</th>\n",
       "      <th>ward_sum</th>\n",
       "      <th>DPS_pt</th>\n",
       "      <th>tier_num</th>\n",
       "    </tr>\n",
       "  </thead>\n",
       "  <tbody>\n",
       "    <tr>\n",
       "      <th>0</th>\n",
       "      <td>31367</td>\n",
       "      <td>296</td>\n",
       "      <td>9.3</td>\n",
       "      <td>31</td>\n",
       "      <td>6</td>\n",
       "      <td>5</td>\n",
       "      <td>11</td>\n",
       "      <td>3</td>\n",
       "      <td>0</td>\n",
       "      <td>10</td>\n",
       "      <td>5</td>\n",
       "      <td>15</td>\n",
       "      <td>1011.838710</td>\n",
       "      <td>8</td>\n",
       "    </tr>\n",
       "    <tr>\n",
       "      <th>1</th>\n",
       "      <td>24054</td>\n",
       "      <td>141</td>\n",
       "      <td>4.4</td>\n",
       "      <td>31</td>\n",
       "      <td>9</td>\n",
       "      <td>6</td>\n",
       "      <td>13</td>\n",
       "      <td>3</td>\n",
       "      <td>7</td>\n",
       "      <td>11</td>\n",
       "      <td>8</td>\n",
       "      <td>26</td>\n",
       "      <td>775.935484</td>\n",
       "      <td>8</td>\n",
       "    </tr>\n",
       "    <tr>\n",
       "      <th>2</th>\n",
       "      <td>18880</td>\n",
       "      <td>377</td>\n",
       "      <td>11.8</td>\n",
       "      <td>31</td>\n",
       "      <td>9</td>\n",
       "      <td>1</td>\n",
       "      <td>7</td>\n",
       "      <td>16</td>\n",
       "      <td>2</td>\n",
       "      <td>10</td>\n",
       "      <td>15</td>\n",
       "      <td>27</td>\n",
       "      <td>609.032258</td>\n",
       "      <td>8</td>\n",
       "    </tr>\n",
       "    <tr>\n",
       "      <th>3</th>\n",
       "      <td>25399</td>\n",
       "      <td>108</td>\n",
       "      <td>4.5</td>\n",
       "      <td>24</td>\n",
       "      <td>14</td>\n",
       "      <td>4</td>\n",
       "      <td>13</td>\n",
       "      <td>6</td>\n",
       "      <td>8</td>\n",
       "      <td>16</td>\n",
       "      <td>1</td>\n",
       "      <td>25</td>\n",
       "      <td>1058.291667</td>\n",
       "      <td>8</td>\n",
       "    </tr>\n",
       "    <tr>\n",
       "      <th>4</th>\n",
       "      <td>18421</td>\n",
       "      <td>194</td>\n",
       "      <td>8.1</td>\n",
       "      <td>24</td>\n",
       "      <td>6</td>\n",
       "      <td>3</td>\n",
       "      <td>8</td>\n",
       "      <td>4</td>\n",
       "      <td>4</td>\n",
       "      <td>7</td>\n",
       "      <td>4</td>\n",
       "      <td>15</td>\n",
       "      <td>767.541667</td>\n",
       "      <td>8</td>\n",
       "    </tr>\n",
       "    <tr>\n",
       "      <th>...</th>\n",
       "      <td>...</td>\n",
       "      <td>...</td>\n",
       "      <td>...</td>\n",
       "      <td>...</td>\n",
       "      <td>...</td>\n",
       "      <td>...</td>\n",
       "      <td>...</td>\n",
       "      <td>...</td>\n",
       "      <td>...</td>\n",
       "      <td>...</td>\n",
       "      <td>...</td>\n",
       "      <td>...</td>\n",
       "      <td>...</td>\n",
       "      <td>...</td>\n",
       "    </tr>\n",
       "    <tr>\n",
       "      <th>295</th>\n",
       "      <td>54</td>\n",
       "      <td>11</td>\n",
       "      <td>0.8</td>\n",
       "      <td>14</td>\n",
       "      <td>0</td>\n",
       "      <td>1</td>\n",
       "      <td>0</td>\n",
       "      <td>0</td>\n",
       "      <td>0</td>\n",
       "      <td>0</td>\n",
       "      <td>0</td>\n",
       "      <td>0</td>\n",
       "      <td>3.857143</td>\n",
       "      <td>0</td>\n",
       "    </tr>\n",
       "    <tr>\n",
       "      <th>296</th>\n",
       "      <td>133</td>\n",
       "      <td>13</td>\n",
       "      <td>0.9</td>\n",
       "      <td>14</td>\n",
       "      <td>0</td>\n",
       "      <td>1</td>\n",
       "      <td>0</td>\n",
       "      <td>0</td>\n",
       "      <td>0</td>\n",
       "      <td>1</td>\n",
       "      <td>0</td>\n",
       "      <td>1</td>\n",
       "      <td>9.500000</td>\n",
       "      <td>0</td>\n",
       "    </tr>\n",
       "    <tr>\n",
       "      <th>297</th>\n",
       "      <td>4205</td>\n",
       "      <td>110</td>\n",
       "      <td>7.8</td>\n",
       "      <td>14</td>\n",
       "      <td>1</td>\n",
       "      <td>1</td>\n",
       "      <td>4</td>\n",
       "      <td>5</td>\n",
       "      <td>0</td>\n",
       "      <td>4</td>\n",
       "      <td>0</td>\n",
       "      <td>4</td>\n",
       "      <td>300.357143</td>\n",
       "      <td>0</td>\n",
       "    </tr>\n",
       "    <tr>\n",
       "      <th>298</th>\n",
       "      <td>14039</td>\n",
       "      <td>103</td>\n",
       "      <td>4.2</td>\n",
       "      <td>24</td>\n",
       "      <td>5</td>\n",
       "      <td>8</td>\n",
       "      <td>3</td>\n",
       "      <td>1</td>\n",
       "      <td>0</td>\n",
       "      <td>4</td>\n",
       "      <td>0</td>\n",
       "      <td>4</td>\n",
       "      <td>584.958333</td>\n",
       "      <td>0</td>\n",
       "    </tr>\n",
       "    <tr>\n",
       "      <th>299</th>\n",
       "      <td>17955</td>\n",
       "      <td>123</td>\n",
       "      <td>5.0</td>\n",
       "      <td>24</td>\n",
       "      <td>9</td>\n",
       "      <td>2</td>\n",
       "      <td>8</td>\n",
       "      <td>8</td>\n",
       "      <td>0</td>\n",
       "      <td>5</td>\n",
       "      <td>0</td>\n",
       "      <td>5</td>\n",
       "      <td>748.125000</td>\n",
       "      <td>0</td>\n",
       "    </tr>\n",
       "  </tbody>\n",
       "</table>\n",
       "<p>300 rows × 14 columns</p>\n",
       "</div>"
      ],
      "text/plain": [
       "       DPS   cs  cspm  time_minute  KDA_K  KDA_D  KDA_A  KDA_cal  ward1  \\\n",
       "0    31367  296   9.3           31      6      5     11        3      0   \n",
       "1    24054  141   4.4           31      9      6     13        3      7   \n",
       "2    18880  377  11.8           31      9      1      7       16      2   \n",
       "3    25399  108   4.5           24     14      4     13        6      8   \n",
       "4    18421  194   8.1           24      6      3      8        4      4   \n",
       "..     ...  ...   ...          ...    ...    ...    ...      ...    ...   \n",
       "295     54   11   0.8           14      0      1      0        0      0   \n",
       "296    133   13   0.9           14      0      1      0        0      0   \n",
       "297   4205  110   7.8           14      1      1      4        5      0   \n",
       "298  14039  103   4.2           24      5      8      3        1      0   \n",
       "299  17955  123   5.0           24      9      2      8        8      0   \n",
       "\n",
       "     ward2  ward3  ward_sum       DPS_pt  tier_num  \n",
       "0       10      5        15  1011.838710         8  \n",
       "1       11      8        26   775.935484         8  \n",
       "2       10     15        27   609.032258         8  \n",
       "3       16      1        25  1058.291667         8  \n",
       "4        7      4        15   767.541667         8  \n",
       "..     ...    ...       ...          ...       ...  \n",
       "295      0      0         0     3.857143         0  \n",
       "296      1      0         1     9.500000         0  \n",
       "297      4      0         4   300.357143         0  \n",
       "298      4      0         4   584.958333         0  \n",
       "299      5      0         5   748.125000         0  \n",
       "\n",
       "[300 rows x 14 columns]"
      ]
     },
     "execution_count": 404,
     "metadata": {},
     "output_type": "execute_result"
    }
   ],
   "source": [
    "df = pd.DataFrame({'DPS':DPS,'cs':cs,'cspm':cspm,'time_minute':time_minute,'KDA_K':KDA_K,'KDA_D':KDA_D,'KDA_A':KDA_A,\n",
    "                  'KDA_cal':KDA_cal,'ward1':ward1,'ward2':ward2,'ward3':ward3,'ward_sum':ward_sum, \n",
    "                   'DPS_pt':DPS_pt, 'tier_num':tier_num})\n",
    "df"
   ]
  },
  {
   "cell_type": "code",
   "execution_count": 405,
   "metadata": {},
   "outputs": [],
   "source": [
    "# split train and test\n",
    "\n",
    "train_dataset = df.sample(frac=0.8,random_state=0)\n",
    "test_dataset = df.drop(train_dataset.index)"
   ]
  },
  {
   "cell_type": "code",
   "execution_count": 406,
   "metadata": {
    "scrolled": true
   },
   "outputs": [
    {
     "name": "stdout",
     "output_type": "stream",
     "text": [
      "(240, 14)\n",
      "(60, 14)\n"
     ]
    }
   ],
   "source": [
    "print(np.shape(train_dataset))\n",
    "print(np.shape(test_dataset))"
   ]
  },
  {
   "cell_type": "code",
   "execution_count": 407,
   "metadata": {
    "scrolled": true
   },
   "outputs": [
    {
     "data": {
      "text/plain": [
       "(13, 8)"
      ]
     },
     "execution_count": 407,
     "metadata": {},
     "output_type": "execute_result"
    }
   ],
   "source": [
    "train_stats = train_dataset.describe()\n",
    "train_stats.pop(\"tier_num\")\n",
    "train_stats = train_stats.transpose()\n",
    "train_stats\n",
    "\n",
    "test_stats = test_dataset.describe()\n",
    "test_stats.pop(\"tier_num\")\n",
    "test_stats = test_stats.transpose()\n",
    "test_stats\n",
    "\n",
    "np.shape(test_stats)"
   ]
  },
  {
   "cell_type": "code",
   "execution_count": 408,
   "metadata": {},
   "outputs": [],
   "source": [
    "train_labels = train_dataset.pop('tier_num')\n",
    "test_labels = test_dataset.pop('tier_num')"
   ]
  },
  {
   "cell_type": "code",
   "execution_count": 409,
   "metadata": {},
   "outputs": [],
   "source": [
    "normed_train_data =(train_dataset - train_stats['mean']) / train_stats['std']\n",
    "normed_test_data = (test_dataset - test_stats['mean']) / test_stats['std']"
   ]
  },
  {
   "cell_type": "code",
   "execution_count": 410,
   "metadata": {
    "scrolled": false
   },
   "outputs": [
    {
     "data": {
      "text/html": [
       "<div>\n",
       "<style scoped>\n",
       "    .dataframe tbody tr th:only-of-type {\n",
       "        vertical-align: middle;\n",
       "    }\n",
       "\n",
       "    .dataframe tbody tr th {\n",
       "        vertical-align: top;\n",
       "    }\n",
       "\n",
       "    .dataframe thead th {\n",
       "        text-align: right;\n",
       "    }\n",
       "</style>\n",
       "<table border=\"1\" class=\"dataframe\">\n",
       "  <thead>\n",
       "    <tr style=\"text-align: right;\">\n",
       "      <th></th>\n",
       "      <th>DPS</th>\n",
       "      <th>cs</th>\n",
       "      <th>cspm</th>\n",
       "      <th>time_minute</th>\n",
       "      <th>KDA_K</th>\n",
       "      <th>KDA_D</th>\n",
       "      <th>KDA_A</th>\n",
       "      <th>KDA_cal</th>\n",
       "      <th>ward1</th>\n",
       "      <th>ward2</th>\n",
       "      <th>ward3</th>\n",
       "      <th>ward_sum</th>\n",
       "      <th>DPS_pt</th>\n",
       "    </tr>\n",
       "  </thead>\n",
       "  <tbody>\n",
       "    <tr>\n",
       "      <th>208</th>\n",
       "      <td>1.614467</td>\n",
       "      <td>1.513372</td>\n",
       "      <td>1.948201</td>\n",
       "      <td>0.011367</td>\n",
       "      <td>3.230507</td>\n",
       "      <td>-1.272104</td>\n",
       "      <td>-0.126666</td>\n",
       "      <td>5.169211</td>\n",
       "      <td>-0.587790</td>\n",
       "      <td>0.306584</td>\n",
       "      <td>-0.604384</td>\n",
       "      <td>-0.268785</td>\n",
       "      <td>1.346767</td>\n",
       "    </tr>\n",
       "    <tr>\n",
       "      <th>188</th>\n",
       "      <td>-0.491609</td>\n",
       "      <td>-0.663707</td>\n",
       "      <td>-0.455907</td>\n",
       "      <td>-0.562950</td>\n",
       "      <td>-1.194845</td>\n",
       "      <td>1.331776</td>\n",
       "      <td>-1.174937</td>\n",
       "      <td>-0.856421</td>\n",
       "      <td>-0.587790</td>\n",
       "      <td>0.071504</td>\n",
       "      <td>-0.013540</td>\n",
       "      <td>-0.144011</td>\n",
       "      <td>-0.268457</td>\n",
       "    </tr>\n",
       "    <tr>\n",
       "      <th>12</th>\n",
       "      <td>-0.803602</td>\n",
       "      <td>-0.629150</td>\n",
       "      <td>1.085188</td>\n",
       "      <td>-1.424426</td>\n",
       "      <td>-0.973578</td>\n",
       "      <td>-0.946619</td>\n",
       "      <td>-0.965283</td>\n",
       "      <td>-0.410078</td>\n",
       "      <td>-0.587790</td>\n",
       "      <td>-0.398657</td>\n",
       "      <td>-0.308962</td>\n",
       "      <td>-0.518335</td>\n",
       "      <td>-0.404141</td>\n",
       "    </tr>\n",
       "    <tr>\n",
       "      <th>221</th>\n",
       "      <td>0.008583</td>\n",
       "      <td>0.856793</td>\n",
       "      <td>0.468750</td>\n",
       "      <td>0.585684</td>\n",
       "      <td>0.796563</td>\n",
       "      <td>-1.272104</td>\n",
       "      <td>0.082988</td>\n",
       "      <td>2.937496</td>\n",
       "      <td>0.660614</td>\n",
       "      <td>-0.633737</td>\n",
       "      <td>-0.308962</td>\n",
       "      <td>-0.268785</td>\n",
       "      <td>-0.112010</td>\n",
       "    </tr>\n",
       "    <tr>\n",
       "      <th>239</th>\n",
       "      <td>0.962172</td>\n",
       "      <td>0.217492</td>\n",
       "      <td>0.715325</td>\n",
       "      <td>-0.419371</td>\n",
       "      <td>1.239099</td>\n",
       "      <td>-1.272104</td>\n",
       "      <td>0.921605</td>\n",
       "      <td>4.276525</td>\n",
       "      <td>-1.003925</td>\n",
       "      <td>-0.398657</td>\n",
       "      <td>-0.604384</td>\n",
       "      <td>-0.767884</td>\n",
       "      <td>1.049281</td>\n",
       "    </tr>\n",
       "    <tr>\n",
       "      <th>...</th>\n",
       "      <td>...</td>\n",
       "      <td>...</td>\n",
       "      <td>...</td>\n",
       "      <td>...</td>\n",
       "      <td>...</td>\n",
       "      <td>...</td>\n",
       "      <td>...</td>\n",
       "      <td>...</td>\n",
       "      <td>...</td>\n",
       "      <td>...</td>\n",
       "      <td>...</td>\n",
       "      <td>...</td>\n",
       "      <td>...</td>\n",
       "    </tr>\n",
       "    <tr>\n",
       "      <th>11</th>\n",
       "      <td>-0.631267</td>\n",
       "      <td>-0.698263</td>\n",
       "      <td>0.900257</td>\n",
       "      <td>-1.424426</td>\n",
       "      <td>-0.088507</td>\n",
       "      <td>-0.621134</td>\n",
       "      <td>-1.174937</td>\n",
       "      <td>-0.410078</td>\n",
       "      <td>-0.171656</td>\n",
       "      <td>-0.398657</td>\n",
       "      <td>-0.604384</td>\n",
       "      <td>-0.518335</td>\n",
       "      <td>-0.174043</td>\n",
       "    </tr>\n",
       "    <tr>\n",
       "      <th>119</th>\n",
       "      <td>1.234138</td>\n",
       "      <td>1.858940</td>\n",
       "      <td>0.592037</td>\n",
       "      <td>1.590739</td>\n",
       "      <td>2.124169</td>\n",
       "      <td>-0.295649</td>\n",
       "      <td>-0.545974</td>\n",
       "      <td>0.259437</td>\n",
       "      <td>-0.171656</td>\n",
       "      <td>0.541664</td>\n",
       "      <td>0.872726</td>\n",
       "      <td>0.604637</td>\n",
       "      <td>0.424291</td>\n",
       "    </tr>\n",
       "    <tr>\n",
       "      <th>102</th>\n",
       "      <td>1.126138</td>\n",
       "      <td>0.891350</td>\n",
       "      <td>0.530394</td>\n",
       "      <td>0.585684</td>\n",
       "      <td>1.239099</td>\n",
       "      <td>0.029836</td>\n",
       "      <td>2.179530</td>\n",
       "      <td>0.259437</td>\n",
       "      <td>-1.003925</td>\n",
       "      <td>-0.398657</td>\n",
       "      <td>-0.013540</td>\n",
       "      <td>-0.518335</td>\n",
       "      <td>0.683797</td>\n",
       "    </tr>\n",
       "    <tr>\n",
       "      <th>35</th>\n",
       "      <td>-0.780386</td>\n",
       "      <td>-0.611871</td>\n",
       "      <td>1.270119</td>\n",
       "      <td>-1.568005</td>\n",
       "      <td>-1.194845</td>\n",
       "      <td>-0.295649</td>\n",
       "      <td>-1.384591</td>\n",
       "      <td>-0.856421</td>\n",
       "      <td>-0.171656</td>\n",
       "      <td>-0.163577</td>\n",
       "      <td>-0.899806</td>\n",
       "      <td>-0.518335</td>\n",
       "      <td>-0.330188</td>\n",
       "    </tr>\n",
       "    <tr>\n",
       "      <th>57</th>\n",
       "      <td>-0.764375</td>\n",
       "      <td>-1.043832</td>\n",
       "      <td>-0.517551</td>\n",
       "      <td>-0.993688</td>\n",
       "      <td>-1.194845</td>\n",
       "      <td>1.006291</td>\n",
       "      <td>-0.965283</td>\n",
       "      <td>-0.856421</td>\n",
       "      <td>-0.587790</td>\n",
       "      <td>-0.868817</td>\n",
       "      <td>-0.604384</td>\n",
       "      <td>-0.892659</td>\n",
       "      <td>-0.456878</td>\n",
       "    </tr>\n",
       "  </tbody>\n",
       "</table>\n",
       "<p>240 rows × 13 columns</p>\n",
       "</div>"
      ],
      "text/plain": [
       "          DPS        cs      cspm  time_minute     KDA_K     KDA_D     KDA_A  \\\n",
       "208  1.614467  1.513372  1.948201     0.011367  3.230507 -1.272104 -0.126666   \n",
       "188 -0.491609 -0.663707 -0.455907    -0.562950 -1.194845  1.331776 -1.174937   \n",
       "12  -0.803602 -0.629150  1.085188    -1.424426 -0.973578 -0.946619 -0.965283   \n",
       "221  0.008583  0.856793  0.468750     0.585684  0.796563 -1.272104  0.082988   \n",
       "239  0.962172  0.217492  0.715325    -0.419371  1.239099 -1.272104  0.921605   \n",
       "..        ...       ...       ...          ...       ...       ...       ...   \n",
       "11  -0.631267 -0.698263  0.900257    -1.424426 -0.088507 -0.621134 -1.174937   \n",
       "119  1.234138  1.858940  0.592037     1.590739  2.124169 -0.295649 -0.545974   \n",
       "102  1.126138  0.891350  0.530394     0.585684  1.239099  0.029836  2.179530   \n",
       "35  -0.780386 -0.611871  1.270119    -1.568005 -1.194845 -0.295649 -1.384591   \n",
       "57  -0.764375 -1.043832 -0.517551    -0.993688 -1.194845  1.006291 -0.965283   \n",
       "\n",
       "      KDA_cal     ward1     ward2     ward3  ward_sum    DPS_pt  \n",
       "208  5.169211 -0.587790  0.306584 -0.604384 -0.268785  1.346767  \n",
       "188 -0.856421 -0.587790  0.071504 -0.013540 -0.144011 -0.268457  \n",
       "12  -0.410078 -0.587790 -0.398657 -0.308962 -0.518335 -0.404141  \n",
       "221  2.937496  0.660614 -0.633737 -0.308962 -0.268785 -0.112010  \n",
       "239  4.276525 -1.003925 -0.398657 -0.604384 -0.767884  1.049281  \n",
       "..        ...       ...       ...       ...       ...       ...  \n",
       "11  -0.410078 -0.171656 -0.398657 -0.604384 -0.518335 -0.174043  \n",
       "119  0.259437 -0.171656  0.541664  0.872726  0.604637  0.424291  \n",
       "102  0.259437 -1.003925 -0.398657 -0.013540 -0.518335  0.683797  \n",
       "35  -0.856421 -0.171656 -0.163577 -0.899806 -0.518335 -0.330188  \n",
       "57  -0.856421 -0.587790 -0.868817 -0.604384 -0.892659 -0.456878  \n",
       "\n",
       "[240 rows x 13 columns]"
      ]
     },
     "execution_count": 410,
     "metadata": {},
     "output_type": "execute_result"
    }
   ],
   "source": [
    "normed_train_data"
   ]
  },
  {
   "cell_type": "code",
   "execution_count": 411,
   "metadata": {
    "scrolled": false
   },
   "outputs": [
    {
     "data": {
      "text/plain": [
       "13"
      ]
     },
     "execution_count": 411,
     "metadata": {},
     "output_type": "execute_result"
    }
   ],
   "source": [
    "len(train_dataset.keys())"
   ]
  },
  {
   "cell_type": "markdown",
   "metadata": {},
   "source": [
    "## 5. Softmax Classification"
   ]
  },
  {
   "cell_type": "code",
   "execution_count": 414,
   "metadata": {},
   "outputs": [],
   "source": [
    "model =keras. models.Sequential()\n",
    "model.add(layers.Dense(64, activation = 'relu', input_shape = [None, 13]))\n",
    "# model.add(Dropout(0.5))\n",
    "# model.add(layers.Dense(64, activation = 'relu'))\n",
    "model.add(layers.Dense(9, activation = 'softmax'))\n",
    "\n",
    "model.compile(optimizer = 'adam',\n",
    "             loss = 'sparse_categorical_crossentropy',\n",
    "             metrics = ['accuracy'])"
   ]
  },
  {
   "cell_type": "code",
   "execution_count": 415,
   "metadata": {
    "scrolled": true
   },
   "outputs": [
    {
     "name": "stdout",
     "output_type": "stream",
     "text": [
      "Model: \"sequential_27\"\n",
      "_________________________________________________________________\n",
      "Layer (type)                 Output Shape              Param #   \n",
      "=================================================================\n",
      "dense_55 (Dense)             (None, None, 64)          896       \n",
      "_________________________________________________________________\n",
      "dense_56 (Dense)             (None, None, 9)           585       \n",
      "=================================================================\n",
      "Total params: 1,481\n",
      "Trainable params: 1,481\n",
      "Non-trainable params: 0\n",
      "_________________________________________________________________\n"
     ]
    }
   ],
   "source": [
    "model.summary()"
   ]
  },
  {
   "cell_type": "code",
   "execution_count": 416,
   "metadata": {},
   "outputs": [],
   "source": [
    "batch_size = 1\n",
    "epochs = 100"
   ]
  },
  {
   "cell_type": "code",
   "execution_count": 417,
   "metadata": {},
   "outputs": [
    {
     "name": "stdout",
     "output_type": "stream",
     "text": [
      "Epoch 1/100\n",
      "WARNING:tensorflow:Model was constructed with shape (None, None, 13) for input Tensor(\"dense_55_input:0\", shape=(None, None, 13), dtype=float32), but it was called on an input with incompatible shape (None, 13).\n",
      "WARNING:tensorflow:Model was constructed with shape (None, None, 13) for input Tensor(\"dense_55_input:0\", shape=(None, None, 13), dtype=float32), but it was called on an input with incompatible shape (None, 13).\n",
      "8/8 [==============================] - 0s 874us/step - loss: 2.3000 - accuracy: 0.0667\n",
      "Epoch 2/100\n",
      "8/8 [==============================] - 0s 1ms/step - loss: 2.2321 - accuracy: 0.1000\n",
      "Epoch 3/100\n",
      "8/8 [==============================] - 0s 1ms/step - loss: 2.1839 - accuracy: 0.1208\n",
      "Epoch 4/100\n",
      "8/8 [==============================] - 0s 748us/step - loss: 2.1400 - accuracy: 0.1750\n",
      "Epoch 5/100\n",
      "8/8 [==============================] - 0s 1ms/step - loss: 2.1017 - accuracy: 0.2083\n",
      "Epoch 6/100\n",
      "8/8 [==============================] - 0s 1ms/step - loss: 2.0684 - accuracy: 0.2208\n",
      "Epoch 7/100\n",
      "8/8 [==============================] - 0s 997us/step - loss: 2.0389 - accuracy: 0.2292\n",
      "Epoch 8/100\n",
      "8/8 [==============================] - 0s 997us/step - loss: 2.0130 - accuracy: 0.2333\n",
      "Epoch 9/100\n",
      "8/8 [==============================] - 0s 748us/step - loss: 1.9879 - accuracy: 0.2417\n",
      "Epoch 10/100\n",
      "8/8 [==============================] - 0s 998us/step - loss: 1.9646 - accuracy: 0.2333\n",
      "Epoch 11/100\n",
      "8/8 [==============================] - 0s 873us/step - loss: 1.9433 - accuracy: 0.2417\n",
      "Epoch 12/100\n",
      "8/8 [==============================] - 0s 872us/step - loss: 1.9255 - accuracy: 0.2792\n",
      "Epoch 13/100\n",
      "8/8 [==============================] - 0s 874us/step - loss: 1.9066 - accuracy: 0.3000\n",
      "Epoch 14/100\n",
      "8/8 [==============================] - 0s 748us/step - loss: 1.8881 - accuracy: 0.3042\n",
      "Epoch 15/100\n",
      "8/8 [==============================] - 0s 997us/step - loss: 1.8715 - accuracy: 0.3167\n",
      "Epoch 16/100\n",
      "8/8 [==============================] - 0s 997us/step - loss: 1.8556 - accuracy: 0.3458\n",
      "Epoch 17/100\n",
      "8/8 [==============================] - 0s 749us/step - loss: 1.8403 - accuracy: 0.3458\n",
      "Epoch 18/100\n",
      "8/8 [==============================] - 0s 997us/step - loss: 1.8250 - accuracy: 0.3708\n",
      "Epoch 19/100\n",
      "8/8 [==============================] - 0s 873us/step - loss: 1.8109 - accuracy: 0.3792\n",
      "Epoch 20/100\n",
      "8/8 [==============================] - 0s 623us/step - loss: 1.7972 - accuracy: 0.3917\n",
      "Epoch 21/100\n",
      "8/8 [==============================] - 0s 1ms/step - loss: 1.7849 - accuracy: 0.3917\n",
      "Epoch 22/100\n",
      "8/8 [==============================] - 0s 748us/step - loss: 1.7711 - accuracy: 0.4042\n",
      "Epoch 23/100\n",
      "8/8 [==============================] - 0s 623us/step - loss: 1.7603 - accuracy: 0.4042\n",
      "Epoch 24/100\n",
      "8/8 [==============================] - 0s 997us/step - loss: 1.7471 - accuracy: 0.4083\n",
      "Epoch 25/100\n",
      "8/8 [==============================] - 0s 748us/step - loss: 1.7356 - accuracy: 0.4042\n",
      "Epoch 26/100\n",
      "8/8 [==============================] - 0s 873us/step - loss: 1.7244 - accuracy: 0.4125\n",
      "Epoch 27/100\n",
      "8/8 [==============================] - 0s 748us/step - loss: 1.7141 - accuracy: 0.4042\n",
      "Epoch 28/100\n",
      "8/8 [==============================] - 0s 748us/step - loss: 1.7027 - accuracy: 0.4208\n",
      "Epoch 29/100\n",
      "8/8 [==============================] - 0s 748us/step - loss: 1.6935 - accuracy: 0.4250\n",
      "Epoch 30/100\n",
      "8/8 [==============================] - 0s 623us/step - loss: 1.6834 - accuracy: 0.4333\n",
      "Epoch 31/100\n",
      "8/8 [==============================] - 0s 997us/step - loss: 1.6732 - accuracy: 0.4375\n",
      "Epoch 32/100\n",
      "8/8 [==============================] - 0s 748us/step - loss: 1.6645 - accuracy: 0.4250\n",
      "Epoch 33/100\n",
      "8/8 [==============================] - 0s 997us/step - loss: 1.6550 - accuracy: 0.4333\n",
      "Epoch 34/100\n",
      "8/8 [==============================] - 0s 997us/step - loss: 1.6471 - accuracy: 0.4375\n",
      "Epoch 35/100\n",
      "8/8 [==============================] - 0s 748us/step - loss: 1.6377 - accuracy: 0.4500\n",
      "Epoch 36/100\n",
      "8/8 [==============================] - 0s 997us/step - loss: 1.6304 - accuracy: 0.4542\n",
      "Epoch 37/100\n",
      "8/8 [==============================] - 0s 873us/step - loss: 1.6213 - accuracy: 0.4542\n",
      "Epoch 38/100\n",
      "8/8 [==============================] - 0s 997us/step - loss: 1.6140 - accuracy: 0.4542\n",
      "Epoch 39/100\n",
      "8/8 [==============================] - 0s 997us/step - loss: 1.6063 - accuracy: 0.4625\n",
      "Epoch 40/100\n",
      "8/8 [==============================] - 0s 997us/step - loss: 1.5980 - accuracy: 0.4583\n",
      "Epoch 41/100\n",
      "8/8 [==============================] - 0s 997us/step - loss: 1.5909 - accuracy: 0.4500\n",
      "Epoch 42/100\n",
      "8/8 [==============================] - 0s 873us/step - loss: 1.5840 - accuracy: 0.4625\n",
      "Epoch 43/100\n",
      "8/8 [==============================] - 0s 623us/step - loss: 1.5761 - accuracy: 0.4750\n",
      "Epoch 44/100\n",
      "8/8 [==============================] - 0s 997us/step - loss: 1.5689 - accuracy: 0.4750\n",
      "Epoch 45/100\n",
      "8/8 [==============================] - 0s 874us/step - loss: 1.5625 - accuracy: 0.4750\n",
      "Epoch 46/100\n",
      "8/8 [==============================] - 0s 623us/step - loss: 1.5558 - accuracy: 0.4667\n",
      "Epoch 47/100\n",
      "8/8 [==============================] - 0s 873us/step - loss: 1.5482 - accuracy: 0.4667\n",
      "Epoch 48/100\n",
      "8/8 [==============================] - 0s 623us/step - loss: 1.5416 - accuracy: 0.4750\n",
      "Epoch 49/100\n",
      "8/8 [==============================] - 0s 1ms/step - loss: 1.5350 - accuracy: 0.4708\n",
      "Epoch 50/100\n",
      "8/8 [==============================] - 0s 873us/step - loss: 1.5283 - accuracy: 0.4667\n",
      "Epoch 51/100\n",
      "8/8 [==============================] - 0s 748us/step - loss: 1.5223 - accuracy: 0.4750\n",
      "Epoch 52/100\n",
      "8/8 [==============================] - 0s 1ms/step - loss: 1.5174 - accuracy: 0.4708\n",
      "Epoch 53/100\n",
      "8/8 [==============================] - 0s 1ms/step - loss: 1.5099 - accuracy: 0.4792\n",
      "Epoch 54/100\n",
      "8/8 [==============================] - 0s 748us/step - loss: 1.5043 - accuracy: 0.4750\n",
      "Epoch 55/100\n",
      "8/8 [==============================] - 0s 1ms/step - loss: 1.4977 - accuracy: 0.4792\n",
      "Epoch 56/100\n",
      "8/8 [==============================] - 0s 1ms/step - loss: 1.4929 - accuracy: 0.4792\n",
      "Epoch 57/100\n",
      "8/8 [==============================] - 0s 1ms/step - loss: 1.4864 - accuracy: 0.4833\n",
      "Epoch 58/100\n",
      "8/8 [==============================] - 0s 1ms/step - loss: 1.4806 - accuracy: 0.4833\n",
      "Epoch 59/100\n",
      "8/8 [==============================] - 0s 1ms/step - loss: 1.4762 - accuracy: 0.4750\n",
      "Epoch 60/100\n",
      "8/8 [==============================] - 0s 1ms/step - loss: 1.4702 - accuracy: 0.4708\n",
      "Epoch 61/100\n",
      "8/8 [==============================] - 0s 1ms/step - loss: 1.4646 - accuracy: 0.4833\n",
      "Epoch 62/100\n",
      "8/8 [==============================] - 0s 1ms/step - loss: 1.4586 - accuracy: 0.4833\n",
      "Epoch 63/100\n",
      "8/8 [==============================] - 0s 872us/step - loss: 1.4539 - accuracy: 0.4833\n",
      "Epoch 64/100\n",
      "8/8 [==============================] - 0s 1ms/step - loss: 1.4491 - accuracy: 0.4833\n",
      "Epoch 65/100\n",
      "8/8 [==============================] - 0s 2ms/step - loss: 1.4428 - accuracy: 0.4875\n",
      "Epoch 66/100\n",
      "8/8 [==============================] - 0s 1ms/step - loss: 1.4378 - accuracy: 0.5000\n",
      "Epoch 67/100\n",
      "8/8 [==============================] - 0s 1ms/step - loss: 1.4332 - accuracy: 0.4958\n",
      "Epoch 68/100\n",
      "8/8 [==============================] - 0s 1ms/step - loss: 1.4273 - accuracy: 0.4958\n",
      "Epoch 69/100\n",
      "8/8 [==============================] - 0s 1ms/step - loss: 1.4230 - accuracy: 0.5042\n",
      "Epoch 70/100\n",
      "8/8 [==============================] - 0s 874us/step - loss: 1.4169 - accuracy: 0.5000\n",
      "Epoch 71/100\n",
      "8/8 [==============================] - 0s 1ms/step - loss: 1.4126 - accuracy: 0.4958\n",
      "Epoch 72/100\n",
      "8/8 [==============================] - 0s 1ms/step - loss: 1.4073 - accuracy: 0.5000\n",
      "Epoch 73/100\n",
      "8/8 [==============================] - 0s 748us/step - loss: 1.4036 - accuracy: 0.4958\n",
      "Epoch 74/100\n",
      "8/8 [==============================] - 0s 997us/step - loss: 1.3983 - accuracy: 0.5000\n",
      "Epoch 75/100\n",
      "8/8 [==============================] - 0s 1ms/step - loss: 1.3930 - accuracy: 0.5000\n",
      "Epoch 76/100\n",
      "8/8 [==============================] - 0s 623us/step - loss: 1.3882 - accuracy: 0.5042\n",
      "Epoch 77/100\n",
      "8/8 [==============================] - 0s 1ms/step - loss: 1.3838 - accuracy: 0.5042\n",
      "Epoch 78/100\n",
      "8/8 [==============================] - 0s 1ms/step - loss: 1.3788 - accuracy: 0.5042\n",
      "Epoch 79/100\n",
      "8/8 [==============================] - 0s 1ms/step - loss: 1.3749 - accuracy: 0.5042\n",
      "Epoch 80/100\n",
      "8/8 [==============================] - 0s 1ms/step - loss: 1.3701 - accuracy: 0.5125\n",
      "Epoch 81/100\n",
      "8/8 [==============================] - 0s 748us/step - loss: 1.3647 - accuracy: 0.5125\n",
      "Epoch 82/100\n",
      "8/8 [==============================] - 0s 997us/step - loss: 1.3613 - accuracy: 0.5125\n",
      "Epoch 83/100\n",
      "8/8 [==============================] - 0s 748us/step - loss: 1.3558 - accuracy: 0.5250\n",
      "Epoch 84/100\n",
      "8/8 [==============================] - 0s 623us/step - loss: 1.3519 - accuracy: 0.5250\n",
      "Epoch 85/100\n",
      "8/8 [==============================] - 0s 1ms/step - loss: 1.3476 - accuracy: 0.5250\n",
      "Epoch 86/100\n",
      "8/8 [==============================] - 0s 623us/step - loss: 1.3427 - accuracy: 0.5292\n",
      "Epoch 87/100\n",
      "8/8 [==============================] - 0s 872us/step - loss: 1.3387 - accuracy: 0.5292\n",
      "Epoch 88/100\n",
      "8/8 [==============================] - 0s 1ms/step - loss: 1.3344 - accuracy: 0.5250\n",
      "Epoch 89/100\n",
      "8/8 [==============================] - 0s 623us/step - loss: 1.3309 - accuracy: 0.5250\n",
      "Epoch 90/100\n",
      "8/8 [==============================] - 0s 872us/step - loss: 1.3252 - accuracy: 0.5250\n",
      "Epoch 91/100\n",
      "8/8 [==============================] - 0s 748us/step - loss: 1.3218 - accuracy: 0.5250\n",
      "Epoch 92/100\n",
      "8/8 [==============================] - 0s 748us/step - loss: 1.3175 - accuracy: 0.5458\n",
      "Epoch 93/100\n",
      "8/8 [==============================] - 0s 1ms/step - loss: 1.3134 - accuracy: 0.5417\n",
      "Epoch 94/100\n",
      "8/8 [==============================] - 0s 748us/step - loss: 1.3095 - accuracy: 0.5417\n",
      "Epoch 95/100\n",
      "8/8 [==============================] - 0s 748us/step - loss: 1.3052 - accuracy: 0.5375\n",
      "Epoch 96/100\n",
      "8/8 [==============================] - 0s 1ms/step - loss: 1.3009 - accuracy: 0.5417\n",
      "Epoch 97/100\n",
      "8/8 [==============================] - 0s 623us/step - loss: 1.2969 - accuracy: 0.5458\n",
      "Epoch 98/100\n",
      "8/8 [==============================] - 0s 748us/step - loss: 1.2922 - accuracy: 0.5417\n",
      "Epoch 99/100\n",
      "8/8 [==============================] - 0s 1ms/step - loss: 1.2893 - accuracy: 0.5458\n",
      "Epoch 100/100\n",
      "8/8 [==============================] - 0s 748us/step - loss: 1.2853 - accuracy: 0.5500\n"
     ]
    }
   ],
   "source": [
    "hist = model.fit(normed_train_data, train_labels,epochs=epochs)"
   ]
  },
  {
   "cell_type": "code",
   "execution_count": 418,
   "metadata": {
    "scrolled": true
   },
   "outputs": [
    {
     "name": "stdout",
     "output_type": "stream",
     "text": [
      "WARNING:tensorflow:Model was constructed with shape (None, None, 13) for input Tensor(\"dense_55_input:0\", shape=(None, None, 13), dtype=float32), but it was called on an input with incompatible shape (None, 13).\n",
      "Train accuracy: 0.5458333492279053\n",
      "Test accuracy: 0.21666666865348816\n"
     ]
    }
   ],
   "source": [
    "train_score = model.evaluate(normed_train_data, train_labels, verbose=0)\n",
    "test_score = model.evaluate(normed_test_data, test_labels, verbose=0)\n",
    "\n",
    "print('Train accuracy:', train_score[1])\n",
    "print('Test accuracy:', test_score[1])"
   ]
  },
  {
   "cell_type": "markdown",
   "metadata": {},
   "source": [
    "## 6. XGB Classifier"
   ]
  },
  {
   "cell_type": "code",
   "execution_count": 419,
   "metadata": {},
   "outputs": [
    {
     "data": {
      "text/plain": [
       "XGBClassifier(base_score=0.5, booster='gbtree', colsample_bylevel=1,\n",
       "              colsample_bynode=1, colsample_bytree=1, gamma=0, gpu_id=-1,\n",
       "              importance_type='gain', interaction_constraints='',\n",
       "              learning_rate=0.300000012, max_delta_step=0, max_depth=6,\n",
       "              min_child_weight=1, missing=nan, monotone_constraints='()',\n",
       "              n_estimators=100, n_jobs=0, num_parallel_tree=1,\n",
       "              objective='multi:softprob', random_state=0, reg_alpha=0,\n",
       "              reg_lambda=1, scale_pos_weight=None, subsample=1,\n",
       "              tree_method='exact', validate_parameters=1, verbosity=None)"
      ]
     },
     "execution_count": 419,
     "metadata": {},
     "output_type": "execute_result"
    }
   ],
   "source": [
    "model1 = XGBClassifier() \n",
    "model1.fit(normed_train_data, train_labels)"
   ]
  },
  {
   "cell_type": "code",
   "execution_count": 420,
   "metadata": {},
   "outputs": [
    {
     "data": {
      "image/png": "[encoded data removed]",
      "text/plain": [
       "<Figure size 432x288 with 1 Axes>"
      ]
     },
     "metadata": {
      "needs_background": "light"
     },
     "output_type": "display_data"
    }
   ],
   "source": [
    "plot_importance(model1) \n",
    "plt.savefig(\"XGB Feature importance.jpg\")\n",
    "plt.show()"
   ]
  },
  {
   "cell_type": "code",
   "execution_count": 421,
   "metadata": {},
   "outputs": [
    {
     "name": "stdout",
     "output_type": "stream",
     "text": [
      "Train Accuracy: 100.00%\n",
      "Test Accuracy: 31.67%\n"
     ]
    }
   ],
   "source": [
    "train_pred = model1.predict(normed_train_data)\n",
    "test_pred = model1.predict(normed_test_data)\n",
    "\n",
    "train_acc = accuracy_score(train_pred, train_labels)\n",
    "test_acc = accuracy_score(test_pred, test_labels)\n",
    "print(\"Train Accuracy: %.2f%%\" % (train_acc * 100.0))\n",
    "print(\"Test Accuracy: %.2f%%\" % (test_acc * 100.0))"
   ]
  }
 ],
 "metadata": {
  "kernelspec": {
   "display_name": "Python 3",
   "language": "python",
   "name": "python3"
  },
  "language_info": {
   "codemirror_mode": {
    "name": "ipython",
    "version": 3
   },
   "file_extension": ".py",
   "mimetype": "text/x-python",
   "name": "python",
   "nbconvert_exporter": "python",
   "pygments_lexer": "ipython3",
   "version": "3.8.3"
  }
 },
 "nbformat": 4,
 "nbformat_minor": 4
}
